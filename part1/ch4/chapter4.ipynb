{
 "cells": [
  {
   "cell_type": "code",
   "execution_count": 1,
   "metadata": {},
   "outputs": [
    {
     "data": {
      "text/plain": [
       "'ABC'"
      ]
     },
     "execution_count": 1,
     "metadata": {},
     "output_type": "execute_result"
    }
   ],
   "source": [
    ">>> \"ABC\\t\".strip()"
   ]
  },
  {
   "cell_type": "code",
   "execution_count": 2,
   "metadata": {},
   "outputs": [
    {
     "data": {
      "text/plain": [
       "'ABC\\t'"
      ]
     },
     "execution_count": 2,
     "metadata": {},
     "output_type": "execute_result"
    }
   ],
   "source": [
    "\" ABC\\t\".lstrip()"
   ]
  },
  {
   "cell_type": "code",
   "execution_count": 3,
   "metadata": {},
   "outputs": [
    {
     "data": {
      "text/plain": [
       "'AB'"
      ]
     },
     "execution_count": 3,
     "metadata": {},
     "output_type": "execute_result"
    }
   ],
   "source": [
    "\"ABC\".strip(\"C\")"
   ]
  },
  {
   "cell_type": "code",
   "execution_count": 7,
   "metadata": {},
   "outputs": [
    {
     "data": {
      "text/plain": [
       "'abcÿ'"
      ]
     },
     "execution_count": 7,
     "metadata": {},
     "output_type": "execute_result"
    }
   ],
   "source": [
    "s = \"abc\\xFF\"\n",
    "s\n"
   ]
  },
  {
   "cell_type": "code",
   "execution_count": 11,
   "metadata": {},
   "outputs": [
    {
     "name": "stdout",
     "output_type": "stream",
     "text": [
      "1985-08-13 00:00:00\n"
     ]
    }
   ],
   "source": [
    "import dateutil.parser as p\n",
    "print(p.parse(\"August 13, 1985\"))\n",
    "\n"
   ]
  },
  {
   "cell_type": "code",
   "execution_count": 12,
   "metadata": {},
   "outputs": [
    {
     "data": {
      "text/plain": [
       "datetime.datetime(2013, 8, 13, 0, 0)"
      ]
     },
     "execution_count": 12,
     "metadata": {},
     "output_type": "execute_result"
    }
   ],
   "source": [
    "p.parse(\"2013-8-13\")"
   ]
  },
  {
   "cell_type": "code",
   "execution_count": 13,
   "metadata": {},
   "outputs": [
    {
     "data": {
      "text/plain": [
       "datetime.datetime(2013, 8, 13, 4, 15)"
      ]
     },
     "execution_count": 13,
     "metadata": {},
     "output_type": "execute_result"
    }
   ],
   "source": [
    "p.parse(\"2013-8-13 4:15am\")"
   ]
  },
  {
   "cell_type": "code",
   "execution_count": 2,
   "metadata": {},
   "outputs": [
    {
     "name": "stdout",
     "output_type": "stream",
     "text": [
      "address_pattern: ^[0-9]*\\s[A-Z][a-z]*\\s(Street|St|Rd|Road|Ave|Avenue|Blvd|Way|Wy)\\.?\\n[A-Z][a-z]*,\\s[A-Z]{2},\\s[0-9]{5}$\n",
      "1 Pennsylvania Ave.\n",
      "Buffalo, NY, 14214\n",
      "<_sre.SRE_Match object; span=(0, 19), match='1 Pennsylvania Ave.'>\n",
      "<_sre.SRE_Match object; span=(0, 18), match='Buffalo, NY, 14214'>\n",
      "<_sre.SRE_Match object; span=(0, 38), match='1 Pennsylvania Ave.\\nBuffalo, NY, 14214'>\n"
     ]
    }
   ],
   "source": [
    "import re\n",
    "street_pattern = r\"^[0-9]*\\s[A-Z][a-z]*\" + \\\n",
    "    r\"\\s(Street|St|Rd|Road|Ave|Avenue|Blvd|Way|Wy)\\.?$\"\n",
    "city_pattern = r\"[A-Z][a-z]*,\\s[A-Z]{2},\\s[0-9]{5}$\"\n",
    "#address_pattern = street_pattern + r\"\\n\" + city_pattern\n",
    "address_pattern = r\"^[0-9]*\\s[A-Z][a-z]*\" + \\\n",
    "    r\"\\s(Street|St|Rd|Road|Ave|Avenue|Blvd|Way|Wy)\\.?\" + r\"\\n\" + city_pattern\n",
    "print(\"address_pattern:\", address_pattern)\n",
    "\n",
    "address_re = re.compile(address_pattern)\n",
    "city_re = re.compile(city_pattern)\n",
    "street_re = re.compile(street_pattern)\n",
    "address = \"\"\"1 Pennsylvania Ave.\n",
    "Buffalo, NY, 14214\"\"\"\n",
    "print(address)\n",
    "matchStreet = re.match(street_re, \"1 Pennsylvania Ave.\")\n",
    "matchCity = re.match(city_re,\"Buffalo, NY, 14214\")\n",
    "matches = re.match(address_re, address)\n",
    "print(matchStreet)\n",
    "print(matchCity)\n",
    "print(matches)"
   ]
  },
  {
   "cell_type": "code",
   "execution_count": 5,
   "metadata": {},
   "outputs": [],
   "source": [
    "def get_first_last_name(s):\n",
    "    INVALID_NAME_PARTS = [\"mr\", \"ms\", \"mrs\", \"dr\", \"jr\", \"sir\"]\n",
    "    parts = s.lower().replace(\".\", \"\").strip().split()\n",
    "    parts = [p for p in parts if p not in INVALID_NAME_PARTS]\n",
    "    if len(parts) == 0:\n",
    "        raise ValueError(\"Name %s is formatted wrong\" % s)\n",
    "    first, last = parts[0], parts[-1]\n",
    "    first = first[0].upper() + first[1:]\n",
    "    last = last[0].upper() + last[1:]\n",
    "    return first, last\n",
    "\n",
    "\n",
    "def format_age(s):\n",
    "    chars = list(s)  # list of characters\n",
    "    digit_chars = [c for c in chars if c.isdigit()]\n",
    "    return int(\"\".join(digit_chars))\n",
    "\n",
    "\n",
    "def format_date(s):\n",
    "    MONTH_MAP = {\"jan\": \"01\", \"feb\": \"02\", \"may\": \"03\"}\n",
    "    s = s.strip().lower().replace(\",\", \"\")\n",
    "    m, d, y = s.split()\n",
    "    if len(y) == 2: y = \"19\" + y\n",
    "    if len(d) == 1: d = \"0\" + d\n",
    "    return y + \"-\" + MONTH_MAP[m[:3]] + \"-\" + d\n",
    "\n"
   ]
  }
 ],
 "metadata": {
  "kernelspec": {
   "display_name": "Python 3",
   "language": "python",
   "name": "python3"
  },
  "language_info": {
   "codemirror_mode": {
    "name": "ipython",
    "version": 3
   },
   "file_extension": ".py",
   "mimetype": "text/x-python",
   "name": "python",
   "nbconvert_exporter": "python",
   "pygments_lexer": "ipython3",
   "version": "3.6.4"
  }
 },
 "nbformat": 4,
 "nbformat_minor": 2
}
