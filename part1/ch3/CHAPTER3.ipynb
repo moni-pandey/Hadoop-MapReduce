{
 "cells": [
  {
   "cell_type": "code",
   "execution_count": 2,
   "metadata": {},
   "outputs": [
    {
     "name": "stdout",
     "output_type": "stream",
     "text": [
      "hello World\n"
     ]
    }
   ],
   "source": [
    "print (\"hello World\")"
   ]
  },
  {
   "cell_type": "code",
   "execution_count": 11,
   "metadata": {},
   "outputs": [
    {
     "name": "stdout",
     "output_type": "stream",
     "text": [
      "Susan makes $105000.0\n",
      "Ellen makes $78750.0\n"
     ]
    }
   ],
   "source": [
    "SALARY_RAISE_FACTOR =0.05 \n",
    "STATE_CODE_MAP = {'WA':'Washington','TX':'Texas'}\n",
    "\n",
    "def update_employee_record(rec):\n",
    "    old_salary=rec['salary']\n",
    "    new_salary=old_salary * (1 + SALARY_RAISE_FACTOR)\n",
    "    rec['salary'] =new_salary\n",
    "    state_code = rec['state_code']\n",
    "    rec['state_name']=STATE_CODE_MAP[state_code]\n",
    "input_data =[\n",
    "    {'employee_name':'Susan' ,'salary':100000.0,\n",
    "    'state_code':'WA'},\n",
    "    {'employee_name':'Ellen','salary':75000.0,\n",
    "    'state_code':'TX'},\n",
    "]    \n",
    "\n",
    "\n",
    "for rec in input_data:\n",
    "\n",
    "    update_employee_record(rec)\n",
    "    print(rec['employee_name'] +' makes $'+ str(rec['salary']))"
   ]
  },
  {
   "cell_type": "code",
   "execution_count": 12,
   "metadata": {},
   "outputs": [
    {
     "name": "stdout",
     "output_type": "stream",
     "text": [
      "True\n",
      "False\n"
     ]
    }
   ],
   "source": [
    "this_is_true = (0 < 100)\n",
    "this_is_false = (0 > 100)\n",
    "print(this_is_true)\n",
    "print(this_is_false)"
   ]
  },
  {
   "cell_type": "code",
   "execution_count": 7,
   "metadata": {},
   "outputs": [
    {
     "name": "stdout",
     "output_type": "stream",
     "text": [
      "line 1'\n",
      "\tline 2\n"
     ]
    }
   ],
   "source": [
    "multi_line_string = \"\"\"line 1'\n",
    "\\tline 2\"\"\"\n",
    "print(multi_line_string)\n"
   ]
  },
  {
   "cell_type": "code",
   "execution_count": 13,
   "metadata": {},
   "outputs": [
    {
     "name": "stdout",
     "output_type": "stream",
     "text": [
      "m oni pandey ni \n",
      "oni pandey\n",
      "ni \n",
      "m None None\n"
     ]
    }
   ],
   "source": [
    "var =\"moni pandey\"\n",
    "print(var[0] , var[1:],var[2:5])\n",
    "print(var[0] , print(var[1:]),print(var[2:5]))\n"
   ]
  },
  {
   "cell_type": "code",
   "execution_count": 19,
   "metadata": {},
   "outputs": [
    {
     "name": "stdout",
     "output_type": "stream",
     "text": [
      "['a ', 'b ', 'c ', 'c']\n",
      "{'a ', 'c ', 'c', 'b '}\n",
      "('a ', 'b ', 'c ', 'c')\n",
      "('Hi!', 'Hi!', 'Hi!', 'Hi!')\n"
     ]
    }
   ],
   "source": [
    "#ordere in set is not fixed \n",
    "#tuple elements cant be modified \n",
    "#list: order is maintained \n",
    "\n",
    "my_list = [\"a \", \"b \", \"c \",\"c\"]\n",
    "my_set = set(my_list)\n",
    "my_tuple = tuple(my_list)\n",
    "print(my_list)\n",
    "print(my_set)\n",
    "print(my_tuple)\n",
    "\n",
    "hey = ('Hi!',) * 4\n",
    "tuple(hey)\n",
    "print(hey)\n"
   ]
  },
  {
   "cell_type": "code",
   "execution_count": 21,
   "metadata": {},
   "outputs": [
    {
     "name": "stdout",
     "output_type": "stream",
     "text": [
      "a\n",
      "['a', 'b', 'c', 'd', 'e', 'f']\n"
     ]
    }
   ],
   "source": [
    "m_list = [\"a\",\"b\",\"c\",\"d\",\"e\"]\n",
    "print(m_list[0])\n",
    "m_list.append(\"f\")\n",
    "print(m_list)"
   ]
  },
  {
   "cell_type": "code",
   "execution_count": 30,
   "metadata": {},
   "outputs": [
    {
     "name": "stdout",
     "output_type": "stream",
     "text": [
      "[4, 4, 4]\n",
      "[2, 2, 2, 3]\n",
      "[4, 4, 4]\n",
      "[3]\n"
     ]
    }
   ],
   "source": [
    "number_list=[2,2,2]\n",
    "squares =[x*x for x in number_list]\n",
    "print(squares)\n",
    "number_list.append(3)\n",
    "print(number_list)\n",
    "sq_even = [x*x for x in number_list if x%2==0] \n",
    "print(sq_even)\n",
    "print(number_list[-1:])"
   ]
  },
  {
   "cell_type": "code",
   "execution_count": 37,
   "metadata": {},
   "outputs": [
    {
     "name": "stdout",
     "output_type": "stream",
     "text": [
      "['moni', 'pandey']\n",
      "['', 'c', 'd', 'e']\n"
     ]
    }
   ],
   "source": [
    "v = \"moni pandey\".split(\" \")\n",
    "print(v)\n",
    "m= \"ABcABdABe\".split(\"AB\")\n",
    "print(m)"
   ]
  },
  {
   "cell_type": "code",
   "execution_count": 43,
   "metadata": {},
   "outputs": [
    {
     "name": "stdout",
     "output_type": "stream",
     "text": [
      "m,o,n,i\n",
      "m o n i\n",
      "moni\n"
     ]
    }
   ],
   "source": [
    "list1 = [\"m\",\"o\",\"n\",\"i\"]\n",
    "k=\",\".join(list1)\n",
    "print(k)\n",
    "l=\" \".join(list1)\n",
    "print(l)\n",
    "m=\"\".join(list1)\n",
    "print(m)"
   ]
  },
  {
   "cell_type": "code",
   "execution_count": 44,
   "metadata": {},
   "outputs": [
    {
     "name": "stdout",
     "output_type": "stream",
     "text": [
      "BDF\n"
     ]
    }
   ],
   "source": [
    "start, end , count = 1 ,7 ,2\n",
    "f = \"aBcDeFg\"[start: end: count]\n",
    "print(f)"
   ]
  },
  {
   "cell_type": "code",
   "execution_count": 49,
   "metadata": {},
   "outputs": [
    {
     "name": "stdout",
     "output_type": "stream",
     "text": [
      "1 2 3\n"
     ]
    }
   ],
   "source": [
    "my_tuple=(1,2,3)\n",
    "af,bf,cf=my_tuple\n",
    "print(af,bf,cf)"
   ]
  },
  {
   "cell_type": "code",
   "execution_count": 64,
   "metadata": {},
   "outputs": [
    {
     "name": "stdout",
     "output_type": "stream",
     "text": [
      "1\n",
      "{'jan': 1, 'feb': 2, 'march': 3}\n",
      "dict_items([('jan', 1), ('feb', 2), ('march', 3)])\n",
      "the value for  jan  is  1\n",
      "the value for  feb  is  2\n",
      "the value for  march  is  3\n"
     ]
    }
   ],
   "source": [
    "my_dict={\"jan\":1 ,\"feb\":2}\n",
    "print(my_dict[\"jan\"])\n",
    "my_dict[\"march\"]=3\n",
    "print(my_dict)\n",
    "\n",
    "new_dict=my_dict.items()\n",
    "print(new_dict)\n",
    "#print(new_dict[\"jan\"])\n",
    "#print(next(new_dict))\n",
    "\n",
    "for key, value in my_dict.items():\n",
    " print (\"the value for \", key, \" is \", value)"
   ]
  },
  {
   "cell_type": "code",
   "execution_count": 59,
   "metadata": {},
   "outputs": [
    {
     "name": "stdout",
     "output_type": "stream",
     "text": [
      "False\n",
      "True\n"
     ]
    }
   ],
   "source": [
    "s = set()\n",
    "print(5 in s )\n",
    "s.add(5)\n",
    "print(5 in s)"
   ]
  },
  {
   "cell_type": "code",
   "execution_count": 60,
   "metadata": {},
   "outputs": [
    {
     "name": "stdout",
     "output_type": "stream",
     "text": [
      "6\n"
     ]
    }
   ],
   "source": [
    "sqr = lambda x : x+5 \n",
    "print(sqr(1))"
   ]
  },
  {
   "cell_type": "code",
   "execution_count": 61,
   "metadata": {},
   "outputs": [
    {
     "name": "stdout",
     "output_type": "stream",
     "text": [
      "[4, 16]\n"
     ]
    }
   ],
   "source": [
    "def apply_to_evens(a_list, a_func):\n",
    " return [a_func(x) for x in a_list if x%2==0]\n",
    "my_list = [1,2,3,4,5]\n",
    "sqrs_of_evens = apply_to_evens(my_list, lambda x:x*x)\n",
    "\n",
    "print(sqrs_of_evens)"
   ]
  },
  {
   "cell_type": "code",
   "execution_count": 65,
   "metadata": {},
   "outputs": [
    {
     "name": "stdout",
     "output_type": "stream",
     "text": [
      "third line :  line3\n",
      "exception\n"
     ]
    }
   ],
   "source": [
    "input_text =\"\"\"line1\n",
    "line2 \n",
    "line3\"\"\"\n",
    "\n",
    "try:\n",
    "    lines=input_text.split(\"\\n\")\n",
    "    print(\"third line : \", lines[2])\n",
    "    print(\"yey:\",lines[3])\n",
    "except:\n",
    "    print(\"exception\")"
   ]
  },
  {
   "cell_type": "code",
   "execution_count": 2,
   "metadata": {},
   "outputs": [
    {
     "name": "stdout",
     "output_type": "stream",
     "text": [
      "bark bark!!\n"
     ]
    }
   ],
   "source": [
    "class Dog:\n",
    " def __init__(self, name):\n",
    "  self.name = name\n",
    " def respond_to_command(self, command):\n",
    "  if command == self.name: self.speak()\n",
    " def speak(self):\n",
    "  print (\"bark bark!!\")\n",
    "fido = Dog(\"fido\")\n",
    "fido.respond_to_command(\"spot\")  # does nothing\n",
    "fido.respond_to_command(\"fido\")  # prints bark bark"
   ]
  },
  {
   "cell_type": "code",
   "execution_count": 4,
   "metadata": {},
   "outputs": [
    {
     "data": {
      "text/plain": [
       "RangeIndex(start=0, stop=3, step=1)"
      ]
     },
     "execution_count": 4,
     "metadata": {},
     "output_type": "execute_result"
    }
   ],
   "source": [
    "\n",
    "# import Pandas. I always alias it as pd\n",
    "import pandas as pd\n",
    "s = pd.Series([1,2,3]) # make Series from list\n",
    "# display the values in s\n",
    "# note index is to the far left\n",
    "s\n",
    "s+2 \n",
    "s\n",
    "s.index"
   ]
  },
  {
   "cell_type": "code",
   "execution_count": 6,
   "metadata": {},
   "outputs": [
    {
     "data": {
      "text/html": [
       "<div>\n",
       "<style scoped>\n",
       "    .dataframe tbody tr th:only-of-type {\n",
       "        vertical-align: middle;\n",
       "    }\n",
       "\n",
       "    .dataframe tbody tr th {\n",
       "        vertical-align: top;\n",
       "    }\n",
       "\n",
       "    .dataframe thead th {\n",
       "        text-align: right;\n",
       "    }\n",
       "</style>\n",
       "<table border=\"1\" class=\"dataframe\">\n",
       "  <thead>\n",
       "    <tr style=\"text-align: right;\">\n",
       "      <th></th>\n",
       "      <th>age</th>\n",
       "      <th>height</th>\n",
       "    </tr>\n",
       "    <tr>\n",
       "      <th>name</th>\n",
       "      <th></th>\n",
       "      <th></th>\n",
       "    </tr>\n",
       "  </thead>\n",
       "  <tbody>\n",
       "    <tr>\n",
       "      <th>Tom</th>\n",
       "      <td>60</td>\n",
       "      <td>6.2</td>\n",
       "    </tr>\n",
       "    <tr>\n",
       "      <th>Tyrell</th>\n",
       "      <td>25</td>\n",
       "      <td>4.0</td>\n",
       "    </tr>\n",
       "    <tr>\n",
       "      <th>Claire</th>\n",
       "      <td>33</td>\n",
       "      <td>5.5</td>\n",
       "    </tr>\n",
       "  </tbody>\n",
       "</table>\n",
       "</div>"
      ],
      "text/plain": [
       "        age  height\n",
       "name               \n",
       "Tom      60     6.2\n",
       "Tyrell   25     4.0\n",
       "Claire   33     5.5"
      ]
     },
     "execution_count": 6,
     "metadata": {},
     "output_type": "execute_result"
    }
   ],
   "source": [
    ">>> df_w_age = pd.DataFrame({\n",
    "  \"name\": [\"Tom\", \"Tyrell\", \"Claire\"],\n",
    "  \"age\": [60, 25, 33]\n",
    " })\n",
    ">>> df_w_height = pd.DataFrame({\n",
    "  \"name\": [\"Tom\", \"Tyrell\", \"Claire\"],\n",
    "  \"height\": [6.2, 4.0, 5.5]\n",
    " })\n",
    ">>> joined = df_w_age.set_index(\"name\").join(\n",
    "df_w_height.set_index(\"name\"))\n",
    ">>> joined"
   ]
  },
  {
   "cell_type": "code",
   "execution_count": 8,
   "metadata": {},
   "outputs": [
    {
     "name": "stdout",
     "output_type": "stream",
     "text": [
      "         age  height\n",
      "gender              \n",
      "F       33.0     5.5\n",
      "M       42.5     5.1\n",
      "        mean_height    name  oldest\n",
      "gender                             \n",
      "F               5.5  Claire      33\n",
      "M               5.1  Tyrell      60\n"
     ]
    }
   ],
   "source": [
    ">>> df = pd.DataFrame({\n",
    "  \"name\": [\"Tom\", \"Tyrell\", \"Claire\"],\n",
    "  \"age\": [60, 25, 33],\n",
    "\"height\": [6.2, 4.0, 5.5],\n",
    "    \"gender\": [\"M\", \"M\", \"F\"]\n",
    " })\n",
    ">>> # use built-in aggregates\n",
    ">>> print (df.groupby(\"gender\").mean())\n",
    "\n",
    ">>> medians = df.groupby(\"gender\").quantile(0.5)\n",
    ">>> # Use a custom aggregation function\n",
    ">>> def agg(ddf):\n",
    "    return pd.Series({\n",
    "    \"name\": max(ddf[\"name\"]),\n",
    "    \"oldest\": max(ddf[\"age\"]),\n",
    "    \"mean_height\": ddf[\"height\"].mean()\n",
    "    })\n",
    ">>> print (df.groupby(\"gender\").apply(agg))"
   ]
  }
 ],
 "metadata": {
  "kernelspec": {
   "display_name": "Python 3",
   "language": "python",
   "name": "python3"
  },
  "language_info": {
   "codemirror_mode": {
    "name": "ipython",
    "version": 3
   },
   "file_extension": ".py",
   "mimetype": "text/x-python",
   "name": "python",
   "nbconvert_exporter": "python",
   "pygments_lexer": "ipython3",
   "version": "3.6.4"
  }
 },
 "nbformat": 4,
 "nbformat_minor": 2
}
